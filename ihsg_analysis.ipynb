{
 "cells": [
  {
   "cell_type": "code",
   "execution_count": 1,
   "id": "c69c1ffd-7904-49e9-b186-53aa32130356",
   "metadata": {},
   "outputs": [],
   "source": [
    "from datetime import datetime, timedelta\n",
    "\n",
    "import pandas as pd\n",
    "import numpy as np\n",
    "\n",
    "import pandas_datareader as pdr\n",
    "\n",
    "\n",
    "import matplotlib.pyplot as plt\n",
    "\n",
    "plt.style.use(\"ggplot\")"
   ]
  },
  {
   "cell_type": "code",
   "execution_count": 2,
   "id": "ca679228-09bc-485d-843e-c508ddb9340b",
   "metadata": {},
   "outputs": [],
   "source": [
    "def get_data(ticker):\n",
    "    data = pdr.get_data_yahoo(ticker, start=\"2000-01-01\").iloc[:-1][['Close']]\n",
    "    data[f\"{ticker}_return\"] = np.log(data.Close) - np.log(data.Close).shift(1)\n",
    "    data = data.dropna()\n",
    "    data = data[[f\"{ticker}_return\"]]\n",
    "    return data"
   ]
  },
  {
   "cell_type": "code",
   "execution_count": 3,
   "id": "8bdb93e0-b68c-481c-83ac-299deec89c65",
   "metadata": {},
   "outputs": [],
   "source": [
    "df = get_data('^JKSE')"
   ]
  },
  {
   "cell_type": "code",
   "execution_count": 4,
   "id": "2f1662c9-e31b-46bf-a275-b53c54d8698e",
   "metadata": {},
   "outputs": [
    {
     "data": {
      "text/html": [
       "<div>\n",
       "<style scoped>\n",
       "    .dataframe tbody tr th:only-of-type {\n",
       "        vertical-align: middle;\n",
       "    }\n",
       "\n",
       "    .dataframe tbody tr th {\n",
       "        vertical-align: top;\n",
       "    }\n",
       "\n",
       "    .dataframe thead th {\n",
       "        text-align: right;\n",
       "    }\n",
       "</style>\n",
       "<table border=\"1\" class=\"dataframe\">\n",
       "  <thead>\n",
       "    <tr style=\"text-align: right;\">\n",
       "      <th></th>\n",
       "      <th>^JKSE_return</th>\n",
       "    </tr>\n",
       "    <tr>\n",
       "      <th>Date</th>\n",
       "      <th></th>\n",
       "    </tr>\n",
       "  </thead>\n",
       "  <tbody>\n",
       "    <tr>\n",
       "      <th>2000-01-05</th>\n",
       "      <td>-0.032116</td>\n",
       "    </tr>\n",
       "    <tr>\n",
       "      <th>2000-01-06</th>\n",
       "      <td>0.015270</td>\n",
       "    </tr>\n",
       "    <tr>\n",
       "      <th>2000-01-11</th>\n",
       "      <td>0.010808</td>\n",
       "    </tr>\n",
       "    <tr>\n",
       "      <th>2000-01-12</th>\n",
       "      <td>-0.008425</td>\n",
       "    </tr>\n",
       "    <tr>\n",
       "      <th>2000-01-13</th>\n",
       "      <td>0.002093</td>\n",
       "    </tr>\n",
       "    <tr>\n",
       "      <th>...</th>\n",
       "      <td>...</td>\n",
       "    </tr>\n",
       "    <tr>\n",
       "      <th>2022-10-27</th>\n",
       "      <td>0.006766</td>\n",
       "    </tr>\n",
       "    <tr>\n",
       "      <th>2022-10-28</th>\n",
       "      <td>-0.005050</td>\n",
       "    </tr>\n",
       "    <tr>\n",
       "      <th>2022-10-31</th>\n",
       "      <td>0.006054</td>\n",
       "    </tr>\n",
       "    <tr>\n",
       "      <th>2022-11-01</th>\n",
       "      <td>-0.006584</td>\n",
       "    </tr>\n",
       "    <tr>\n",
       "      <th>2022-11-02</th>\n",
       "      <td>-0.005205</td>\n",
       "    </tr>\n",
       "  </tbody>\n",
       "</table>\n",
       "<p>5555 rows × 1 columns</p>\n",
       "</div>"
      ],
      "text/plain": [
       "            ^JKSE_return\n",
       "Date                    \n",
       "2000-01-05     -0.032116\n",
       "2000-01-06      0.015270\n",
       "2000-01-11      0.010808\n",
       "2000-01-12     -0.008425\n",
       "2000-01-13      0.002093\n",
       "...                  ...\n",
       "2022-10-27      0.006766\n",
       "2022-10-28     -0.005050\n",
       "2022-10-31      0.006054\n",
       "2022-11-01     -0.006584\n",
       "2022-11-02     -0.005205\n",
       "\n",
       "[5555 rows x 1 columns]"
      ]
     },
     "execution_count": 4,
     "metadata": {},
     "output_type": "execute_result"
    }
   ],
   "source": [
    "df"
   ]
  },
  {
   "cell_type": "code",
   "execution_count": 5,
   "id": "062df482-167d-4480-82f1-56759419a975",
   "metadata": {},
   "outputs": [],
   "source": [
    "def feature_creation(df):\n",
    "    \n",
    "    df['date'] = df.index.day\n",
    "    df['month'] = df.index.month_name()\n",
    "    df['year'] = df.index.year\n",
    "    df['salary_period'] = [\"Gajian\" if (date>=25 or date<=5) else \"Hari Biasa\"  for date in df.date]\n",
    "    \n",
    "    return df"
   ]
  },
  {
   "cell_type": "code",
   "execution_count": 6,
   "id": "b87562b4-41d1-462f-af23-171c50141660",
   "metadata": {},
   "outputs": [],
   "source": [
    "df = feature_creation(df)"
   ]
  },
  {
   "cell_type": "code",
   "execution_count": 7,
   "id": "d009332d-d123-4dd3-985e-a3cfc2f5c8b4",
   "metadata": {},
   "outputs": [
    {
     "data": {
      "text/html": [
       "<div>\n",
       "<style scoped>\n",
       "    .dataframe tbody tr th:only-of-type {\n",
       "        vertical-align: middle;\n",
       "    }\n",
       "\n",
       "    .dataframe tbody tr th {\n",
       "        vertical-align: top;\n",
       "    }\n",
       "\n",
       "    .dataframe thead th {\n",
       "        text-align: right;\n",
       "    }\n",
       "</style>\n",
       "<table border=\"1\" class=\"dataframe\">\n",
       "  <thead>\n",
       "    <tr style=\"text-align: right;\">\n",
       "      <th></th>\n",
       "      <th>^JKSE_return</th>\n",
       "      <th>date</th>\n",
       "      <th>month</th>\n",
       "      <th>year</th>\n",
       "      <th>salary_period</th>\n",
       "    </tr>\n",
       "    <tr>\n",
       "      <th>Date</th>\n",
       "      <th></th>\n",
       "      <th></th>\n",
       "      <th></th>\n",
       "      <th></th>\n",
       "      <th></th>\n",
       "    </tr>\n",
       "  </thead>\n",
       "  <tbody>\n",
       "    <tr>\n",
       "      <th>2000-01-05</th>\n",
       "      <td>-0.032116</td>\n",
       "      <td>5</td>\n",
       "      <td>January</td>\n",
       "      <td>2000</td>\n",
       "      <td>Gajian</td>\n",
       "    </tr>\n",
       "    <tr>\n",
       "      <th>2000-01-06</th>\n",
       "      <td>0.015270</td>\n",
       "      <td>6</td>\n",
       "      <td>January</td>\n",
       "      <td>2000</td>\n",
       "      <td>Hari Biasa</td>\n",
       "    </tr>\n",
       "    <tr>\n",
       "      <th>2000-01-11</th>\n",
       "      <td>0.010808</td>\n",
       "      <td>11</td>\n",
       "      <td>January</td>\n",
       "      <td>2000</td>\n",
       "      <td>Hari Biasa</td>\n",
       "    </tr>\n",
       "    <tr>\n",
       "      <th>2000-01-12</th>\n",
       "      <td>-0.008425</td>\n",
       "      <td>12</td>\n",
       "      <td>January</td>\n",
       "      <td>2000</td>\n",
       "      <td>Hari Biasa</td>\n",
       "    </tr>\n",
       "    <tr>\n",
       "      <th>2000-01-13</th>\n",
       "      <td>0.002093</td>\n",
       "      <td>13</td>\n",
       "      <td>January</td>\n",
       "      <td>2000</td>\n",
       "      <td>Hari Biasa</td>\n",
       "    </tr>\n",
       "    <tr>\n",
       "      <th>...</th>\n",
       "      <td>...</td>\n",
       "      <td>...</td>\n",
       "      <td>...</td>\n",
       "      <td>...</td>\n",
       "      <td>...</td>\n",
       "    </tr>\n",
       "    <tr>\n",
       "      <th>2022-10-27</th>\n",
       "      <td>0.006766</td>\n",
       "      <td>27</td>\n",
       "      <td>October</td>\n",
       "      <td>2022</td>\n",
       "      <td>Gajian</td>\n",
       "    </tr>\n",
       "    <tr>\n",
       "      <th>2022-10-28</th>\n",
       "      <td>-0.005050</td>\n",
       "      <td>28</td>\n",
       "      <td>October</td>\n",
       "      <td>2022</td>\n",
       "      <td>Gajian</td>\n",
       "    </tr>\n",
       "    <tr>\n",
       "      <th>2022-10-31</th>\n",
       "      <td>0.006054</td>\n",
       "      <td>31</td>\n",
       "      <td>October</td>\n",
       "      <td>2022</td>\n",
       "      <td>Gajian</td>\n",
       "    </tr>\n",
       "    <tr>\n",
       "      <th>2022-11-01</th>\n",
       "      <td>-0.006584</td>\n",
       "      <td>1</td>\n",
       "      <td>November</td>\n",
       "      <td>2022</td>\n",
       "      <td>Gajian</td>\n",
       "    </tr>\n",
       "    <tr>\n",
       "      <th>2022-11-02</th>\n",
       "      <td>-0.005205</td>\n",
       "      <td>2</td>\n",
       "      <td>November</td>\n",
       "      <td>2022</td>\n",
       "      <td>Gajian</td>\n",
       "    </tr>\n",
       "  </tbody>\n",
       "</table>\n",
       "<p>5555 rows × 5 columns</p>\n",
       "</div>"
      ],
      "text/plain": [
       "            ^JKSE_return  date     month  year salary_period\n",
       "Date                                                        \n",
       "2000-01-05     -0.032116     5   January  2000        Gajian\n",
       "2000-01-06      0.015270     6   January  2000    Hari Biasa\n",
       "2000-01-11      0.010808    11   January  2000    Hari Biasa\n",
       "2000-01-12     -0.008425    12   January  2000    Hari Biasa\n",
       "2000-01-13      0.002093    13   January  2000    Hari Biasa\n",
       "...                  ...   ...       ...   ...           ...\n",
       "2022-10-27      0.006766    27   October  2022        Gajian\n",
       "2022-10-28     -0.005050    28   October  2022        Gajian\n",
       "2022-10-31      0.006054    31   October  2022        Gajian\n",
       "2022-11-01     -0.006584     1  November  2022        Gajian\n",
       "2022-11-02     -0.005205     2  November  2022        Gajian\n",
       "\n",
       "[5555 rows x 5 columns]"
      ]
     },
     "execution_count": 7,
     "metadata": {},
     "output_type": "execute_result"
    }
   ],
   "source": [
    "df"
   ]
  },
  {
   "cell_type": "code",
   "execution_count": 13,
   "id": "0c566618-ff03-435e-bd0f-05ec0aa3d7e9",
   "metadata": {},
   "outputs": [
    {
     "data": {
      "image/png": "[encoded data removed]",
      "text/plain": [
       "<Figure size 720x360 with 1 Axes>"
      ]
     },
     "metadata": {},
     "output_type": "display_data"
    }
   ],
   "source": [
    "by_month = df.groupby(by=\"month\", sort=False).mean()[['^JKSE_return']]\n",
    "\n",
    "fig, ax = plt.subplots(figsize=(10,5))\n",
    "\n",
    "ax.bar(x=by_month.index, height=by_month['^JKSE_return']*100)\n",
    "ax.set_title(\"Rata-Rata Return IHSG (%) tahun 2000-2022 berdasarkan Bulan\")\n",
    "plt.xticks(rotation=45)\n",
    "\n",
    "fig.savefig(\"pic/by_month.png\")"
   ]
  },
  {
   "cell_type": "code",
   "execution_count": 9,
   "id": "744d055b-c771-4282-b63b-0fa4ffe03734",
   "metadata": {},
   "outputs": [
    {
     "data": {
      "image/png": "[encoded data removed]",
      "text/plain": [
       "<Figure size 720x360 with 1 Axes>"
      ]
     },
     "metadata": {},
     "output_type": "display_data"
    }
   ],
   "source": [
    "by_year = df.groupby(by=\"year\").mean()[[\"^JKSE_return\"]]\n",
    "\n",
    "fig, ax = plt.subplots(figsize=(10, 5))\n",
    "\n",
    "ax.bar(x=by_year.index, height=by_year['^JKSE_return']*100)\n",
    "ax.set_title(\"Rata-Rata Return IHSG (%) tahun 2000-2022\")\n",
    "plt.xticks(ticks = by_year.index, rotation=45)\n",
    "\n",
    "fig.savefig(\"pic/by_year.png\")\n"
   ]
  },
  {
   "cell_type": "code",
   "execution_count": 11,
   "id": "b4f8422e-73b8-4d0a-8400-4646080c3f5e",
   "metadata": {},
   "outputs": [
    {
     "data": {
      "image/png": "[encoded data removed]",
      "text/plain": [
       "<Figure size 720x360 with 1 Axes>"
      ]
     },
     "metadata": {},
     "output_type": "display_data"
    }
   ],
   "source": [
    "salary_period = df.groupby(by=\"salary_period\").mean()[['^JKSE_return']]\n",
    "\n",
    "fig, ax = plt.subplots(figsize=(10, 5))\n",
    "\n",
    "ax.bar(x=salary_period.index, height=salary_period['^JKSE_return']*100)\n",
    "ax.set_title(\"Rata-Rata Return IHSG (%) Periode Gajian Vs. Hari Biasa 2000-2022\")\n",
    "\n",
    "fig.savefig(\"pic/by_salary_period.png\")\n"
   ]
  },
  {
   "cell_type": "code",
   "execution_count": null,
   "id": "2e342f5a-452e-428e-8553-baf3ac96429a",
   "metadata": {},
   "outputs": [],
   "source": []
  },
  {
   "cell_type": "code",
   "execution_count": null,
   "id": "fc2c341d-1743-419b-8ff2-e80c69b3aaad",
   "metadata": {},
   "outputs": [],
   "source": []
  }
 ],
 "metadata": {
  "kernelspec": {
   "display_name": "Python 3 (ipykernel)",
   "language": "python",
   "name": "python3"
  },
  "language_info": {
   "codemirror_mode": {
    "name": "ipython",
    "version": 3
   },
   "file_extension": ".py",
   "mimetype": "text/x-python",
   "name": "python",
   "nbconvert_exporter": "python",
   "pygments_lexer": "ipython3",
   "version": "3.9.12"
  }
 },
 "nbformat": 4,
 "nbformat_minor": 5
}
